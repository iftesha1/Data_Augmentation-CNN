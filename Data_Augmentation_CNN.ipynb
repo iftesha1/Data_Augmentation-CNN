{
 "cells": [
  {
   "cell_type": "markdown",
   "id": "f7e4cfb9",
   "metadata": {},
   "source": [
    "##                              Data Augmentation"
   ]
  },
  {
   "cell_type": "markdown",
   "id": "07e55ab3",
   "metadata": {},
   "source": [
    "### It is the set of techniques that is used to increase the amount of data by adding modified copies of already existing data.\n",
    "\n",
    "#### It is useful as  \n",
    "- It creates synthetic data from the existing data as deep learning techniques are data hungry.\n",
    "- It acts as regularizer and helps in handaling overfitting."
   ]
  },
  {
   "cell_type": "markdown",
   "id": "b400fc98",
   "metadata": {},
   "source": [
    "#### Imprting the required libraries"
   ]
  },
  {
   "cell_type": "code",
   "execution_count": null,
   "id": "7939bd17",
   "metadata": {},
   "outputs": [],
   "source": [
    "from keras.preprocessing import image\n",
    "from keras.preprocessing.image import ImageDataGenerator\n",
    "import keras.utils as image"
   ]
  },
  {
   "cell_type": "markdown",
   "id": "dac7d4cc",
   "metadata": {},
   "source": [
    "#### Load the image"
   ]
  },
  {
   "cell_type": "code",
   "execution_count": null,
   "id": "6b538a32",
   "metadata": {},
   "outputs": [],
   "source": [
    "img=image.load_img('cat.jpeg',target_size=(200,200))"
   ]
  },
  {
   "cell_type": "code",
   "execution_count": null,
   "id": "e265a3c5",
   "metadata": {},
   "outputs": [],
   "source": [
    "img"
   ]
  },
  {
   "cell_type": "code",
   "execution_count": null,
   "id": "396328a7",
   "metadata": {},
   "outputs": [],
   "source": [
    "type(img)"
   ]
  },
  {
   "cell_type": "markdown",
   "id": "6179feb8",
   "metadata": {},
   "source": [
    "#### object for Data generator"
   ]
  },
  {
   "cell_type": "code",
   "execution_count": null,
   "id": "780705a4",
   "metadata": {},
   "outputs": [],
   "source": [
    "datagen= ImageDataGenerator(\n",
    "    rotation_range=30,\n",
    "    shear_range=0.2,\n",
    "    zoom_range=0.2,\n",
    "    horizontal_flip=True,\n",
    "    width_shift_range=0.2,\n",
    "    height_shift_range=0.2,\n",
    "    \n",
    "    \n",
    ")"
   ]
  },
  {
   "cell_type": "markdown",
   "id": "1035f0d3",
   "metadata": {},
   "source": [
    "##### Converting the image to numpy array"
   ]
  },
  {
   "cell_type": "code",
   "execution_count": null,
   "id": "94e2f3dd",
   "metadata": {},
   "outputs": [],
   "source": [
    "img=image.img_to_array(img)"
   ]
  },
  {
   "cell_type": "code",
   "execution_count": null,
   "id": "605ddb2c",
   "metadata": {},
   "outputs": [],
   "source": [
    "img.shape"
   ]
  },
  {
   "cell_type": "markdown",
   "id": "34ba8a04",
   "metadata": {},
   "source": [
    "##### Creating the input batch"
   ]
  },
  {
   "cell_type": "code",
   "execution_count": null,
   "id": "941750a5",
   "metadata": {},
   "outputs": [],
   "source": [
    "input_batch=img.reshape(1,200,200,3)"
   ]
  },
  {
   "cell_type": "markdown",
   "id": "a8f43589",
   "metadata": {},
   "source": [
    "#### Creating the synthetic data"
   ]
  },
  {
   "cell_type": "code",
   "execution_count": null,
   "id": "9f7f6479",
   "metadata": {},
   "outputs": [],
   "source": [
    "i=0\n",
    "\n",
    "#create your own directory (e.g. 'Augmented_data') first where the new images will get stored\n",
    "\n",
    "for output in datagen.flow(input_batch,batch_size=1,save_to_dir='Augmented_data'):      \n",
    "    i=i+1\n",
    "    \n",
    "    if i==15:\n",
    "        break"
   ]
  },
  {
   "cell_type": "markdown",
   "id": "5403b979",
   "metadata": {},
   "source": [
    "##### conclusion:"
   ]
  },
  {
   "cell_type": "markdown",
   "id": "973ea8ae",
   "metadata": {},
   "source": [
    "- The modified copies of the xisting data has been craeted and stored in the respective directory."
   ]
  },
  {
   "cell_type": "code",
   "execution_count": null,
   "id": "99463ba4",
   "metadata": {},
   "outputs": [],
   "source": []
  }
 ],
 "metadata": {
  "kernelspec": {
   "display_name": "Python 3 (ipykernel)",
   "language": "python",
   "name": "python3"
  },
  "language_info": {
   "codemirror_mode": {
    "name": "ipython",
    "version": 3
   },
   "file_extension": ".py",
   "mimetype": "text/x-python",
   "name": "python",
   "nbconvert_exporter": "python",
   "pygments_lexer": "ipython3",
   "version": "3.9.7"
  }
 },
 "nbformat": 4,
 "nbformat_minor": 5
}
